{
 "cells": [
  {
   "cell_type": "code",
   "execution_count": 1,
   "id": "76024048-1563-4e71-bd26-cbf2e722c470",
   "metadata": {},
   "outputs": [],
   "source": [
    "from utils.dataset import LQCDataset\n",
    "from utils.device import get_device\n",
    "from utils.job import Job\n",
    "from utils.mlflow import set_mlflow_experiment\n",
    "from models.textcnn import TextCNN\n",
    "\n",
    "import torch\n",
    "from torchmetrics import Accuracy\n",
    "from torch.utils.data import DataLoader\n",
    "from torch.utils.data import random_split\n",
    "import torch.nn as nn\n",
    "\n",
    "import numpy as np\n",
    "import optuna\n",
    "optuna.logging.set_verbosity(optuna.logging.ERROR)\n",
    "import mlflow\n"
   ]
  },
  {
   "cell_type": "code",
   "execution_count": 2,
   "id": "5db90cb2-c7b9-40cc-9943-43c566d13fb2",
   "metadata": {},
   "outputs": [
    {
     "data": {
      "text/plain": [
       "'cuda'"
      ]
     },
     "execution_count": 2,
     "metadata": {},
     "output_type": "execute_result"
    }
   ],
   "source": [
    "device = get_device()\n",
    "device"
   ]
  },
  {
   "cell_type": "code",
   "execution_count": 3,
   "id": "b3473190-2db1-41b2-abc1-8e5af5349c41",
   "metadata": {},
   "outputs": [
    {
     "name": "stdout",
     "output_type": "stream",
     "text": [
      "MLFlow: 'LQC-TextCNN' not found !\n",
      "MLFlow: Creating 'LQC-TextCNN' experiment...\n",
      "MLFlow: 'LQC-TextCNN' created!\n",
      "MLFlow: Setting 'LQC-TextCNN' experiment...\n",
      "MLFlow: 'LQC-TextCNN' experiment is active !\n"
     ]
    }
   ],
   "source": [
    "mlflow.set_tracking_uri(\"http://localhost:5000\")\n",
    "set_mlflow_experiment(\"LQC-TextCNN\")"
   ]
  },
  {
   "cell_type": "code",
   "execution_count": 5,
   "id": "ce97482a-dda8-4a79-a371-e22daf913ad3",
   "metadata": {},
   "outputs": [],
   "source": [
    "raw_data = open(\"data/train_5500.label.txt\", \"r\", encoding=\"latin-1\")\n",
    "data = set()\n",
    "for row in raw_data:\n",
    "    data.add(row)"
   ]
  },
  {
   "cell_type": "code",
   "execution_count": 6,
   "id": "fb005cb5-cf43-41a9-8707-1e3e6214bd6c",
   "metadata": {},
   "outputs": [],
   "source": [
    "raw_test = open(\"data/TREC_10.label.txt\", \"r\", encoding=\"latin-1\")\n",
    "test_data = set()\n",
    "for row in raw_test:\n",
    "    test_data.add(row)"
   ]
  },
  {
   "cell_type": "code",
   "execution_count": 7,
   "id": "e7a046d2-ee67-4e73-af17-8fcb120f0fcc",
   "metadata": {},
   "outputs": [],
   "source": [
    "dataset = LQCDataset(data=data)\n",
    "dataloader = DataLoader(dataset, batch_size=32, shuffle=True, num_workers=0)\n",
    "\n",
    "train_size = int(0.8 * len(dataset))\n",
    "val_size = len(dataset) - train_size\n",
    "train_dataset, val_dataset = random_split(dataset, [train_size, val_size])\n",
    "\n",
    "train_dataloader = DataLoader(train_dataset, batch_size=32, shuffle=True, num_workers=0)\n",
    "val_dataloader = DataLoader(val_dataset, batch_size=32, shuffle=True, num_workers=0)"
   ]
  },
  {
   "cell_type": "code",
   "execution_count": 8,
   "id": "cf9f648f-57e1-467e-a882-bd03f3536fd7",
   "metadata": {},
   "outputs": [],
   "source": [
    "test_dataset = LQCDataset(data=test_data, label_encoder=dataset.label_encoder, max_sentence_length=dataset.max_sentence_length, tokenizer=dataset.tokenizer)\n",
    "test_dataloader = DataLoader(test_dataset, batch_size=32, shuffle=True, num_workers=0)"
   ]
  },
  {
   "cell_type": "code",
   "execution_count": 26,
   "id": "2b08dab3-9bd6-4ad2-bad1-d7ffa575248c",
   "metadata": {},
   "outputs": [],
   "source": [
    "def champion_callback(study, frozen_trial):\n",
    "    \"\"\"Log only when a trial improves upon best value\"\"\"\n",
    "    winner = study.user_attrs.get(\"winner\", None)\n",
    "    \n",
    "    if study.best_value and winner != study.best_value:\n",
    "        study.set_user_attr(\"winner\", study.best_value)\n",
    "        if winner:\n",
    "            improvement = (winner - study.best_value) / winner * 100  # % improvement\n",
    "            print(f\"Trial {frozen_trial.number} achieved val_loss: {frozen_trial.value:.4f} \"\n",
    "                  f\"({improvement:.2f}% improvement)\")\n",
    "        else:\n",
    "            print(f\"Initial trial {frozen_trial.number} achieved val_loss: {frozen_trial.value:.4f}\")\n",
    "\n",
    "\n",
    "def objective(trial):\n",
    "    params = {\n",
    "        \"embedding_dim\": trial.suggest_categorical(\"embedding_dim\", [32, 64, 128, 256, 512]),\n",
    "        \"num_filters\": trial.suggest_categorical(\"num_filters\", [32, 64, 128, 256, 512]),\n",
    "        \"kernels\": trial.suggest_categorical(\"kernels\", [\"1,3,5\", \"3,5,7\"]),\n",
    "    }\n",
    "\n",
    "    model = TextCNN(\n",
    "        num_embeddings=dataset.vocab_size,\n",
    "        embedding_dim=params[\"embedding_dim\"],\n",
    "        num_filters=params[\"num_filters\"],\n",
    "        kernels=list(map(int, params[\"kernels\"].split(\",\"))),\n",
    "        num_classes=dataset.num_classes\n",
    "    ).to(device)\n",
    "    \n",
    "    loss_fn = nn.CrossEntropyLoss()\n",
    "    optimizer = torch.optim.Adam(model.parameters())\n",
    "    metric_fn = Accuracy(task=\"multiclass\", num_classes=dataset.num_classes).to(device)\n",
    "\n",
    "    job = Job(\n",
    "        train_dataloader=train_dataloader,\n",
    "        val_dataloader=val_dataloader,\n",
    "        test_dataloader=test_dataloader,\n",
    "        model=model,\n",
    "        device=device,\n",
    "        loss_fn=loss_fn,\n",
    "        metrics_fn=metric_fn,\n",
    "        optimizer=optimizer,\n",
    "    )\n",
    "\n",
    "    with mlflow.start_run(nested=True):\n",
    "        mlflow.log_params(params)\n",
    "        mlflow.set_tag(\"optuna_trial_number\", trial.number)\n",
    "\n",
    "        input_example = np.random.randint(0, dataset.vocab_size, (1, 32), dtype=np.int64)\n",
    "        # input_example = torch.tensor(input_example, dtype=torch.long).to(device)\n",
    "\n",
    "        val_loss = job.fit(epochs=10)\n",
    "        mlflow.pytorch.log_model(\n",
    "            model,\n",
    "            name=\"model\",\n",
    "            input_example=input_example,\n",
    "            pip_requirements=[\"torch==2.9.0.dev20250710\"])\n",
    "\n",
    "    return val_loss    "
   ]
  },
  {
   "cell_type": "code",
   "execution_count": 27,
   "id": "4f056092-07c8-4e67-9b99-bf396a286d9a",
   "metadata": {},
   "outputs": [
    {
     "name": "stderr",
     "output_type": "stream",
     "text": [
      "2025/07/16 17:20:20 WARNING mlflow.models.signature: Failed to infer the model signature from the input example. Reason: RuntimeError('Expected all tensors to be on the same device, but got index is on cpu, different from other tensors on cuda:0 (when checking argument in method wrapper_CUDA__index_select)'). To see the full traceback, set the logging level to DEBUG via `logging.getLogger(\"mlflow\").setLevel(logging.DEBUG)`.\n"
     ]
    },
    {
     "data": {
      "application/vnd.jupyter.widget-view+json": {
       "model_id": "535054d3aa1d4fcaa8703d0fcaa5260d",
       "version_major": 2,
       "version_minor": 0
      },
      "text/plain": [
       "Downloading artifacts:   0%|          | 0/8 [00:00<?, ?it/s]"
      ]
     },
     "metadata": {},
     "output_type": "display_data"
    },
    {
     "name": "stdout",
     "output_type": "stream",
     "text": [
      "🏃 View run rogue-mule-56 at: http://localhost:5000/#/experiments/106280909937744577/runs/578b464a041c405e90ad7160f5362dc7\n",
      "🧪 View experiment at: http://localhost:5000/#/experiments/106280909937744577\n",
      "Initial trial 0 achieved val_loss: 0.0787\n"
     ]
    },
    {
     "name": "stderr",
     "output_type": "stream",
     "text": [
      "2025/07/16 17:20:57 WARNING mlflow.models.signature: Failed to infer the model signature from the input example. Reason: RuntimeError('Expected all tensors to be on the same device, but got index is on cpu, different from other tensors on cuda:0 (when checking argument in method wrapper_CUDA__index_select)'). To see the full traceback, set the logging level to DEBUG via `logging.getLogger(\"mlflow\").setLevel(logging.DEBUG)`.\n"
     ]
    },
    {
     "data": {
      "application/vnd.jupyter.widget-view+json": {
       "model_id": "312f715970194054af4eb12e9ff3a6c9",
       "version_major": 2,
       "version_minor": 0
      },
      "text/plain": [
       "Downloading artifacts:   0%|          | 0/8 [00:00<?, ?it/s]"
      ]
     },
     "metadata": {},
     "output_type": "display_data"
    },
    {
     "name": "stdout",
     "output_type": "stream",
     "text": [
      "🏃 View run peaceful-kit-689 at: http://localhost:5000/#/experiments/106280909937744577/runs/7ead2d4084d8415aa754fec2bbb150ae\n",
      "🧪 View experiment at: http://localhost:5000/#/experiments/106280909937744577\n",
      "Trial 1 achieved val_loss: 0.0748 (5.01% improvement)\n"
     ]
    },
    {
     "name": "stderr",
     "output_type": "stream",
     "text": [
      "2025/07/16 17:21:26 WARNING mlflow.models.signature: Failed to infer the model signature from the input example. Reason: RuntimeError('Expected all tensors to be on the same device, but got index is on cpu, different from other tensors on cuda:0 (when checking argument in method wrapper_CUDA__index_select)'). To see the full traceback, set the logging level to DEBUG via `logging.getLogger(\"mlflow\").setLevel(logging.DEBUG)`.\n"
     ]
    },
    {
     "data": {
      "application/vnd.jupyter.widget-view+json": {
       "model_id": "646833a9df354aefae75d85e20d06937",
       "version_major": 2,
       "version_minor": 0
      },
      "text/plain": [
       "Downloading artifacts:   0%|          | 0/8 [00:00<?, ?it/s]"
      ]
     },
     "metadata": {},
     "output_type": "display_data"
    },
    {
     "name": "stdout",
     "output_type": "stream",
     "text": [
      "🏃 View run casual-fox-314 at: http://localhost:5000/#/experiments/106280909937744577/runs/0d6c9a8487854ecca3109c6faabb1ca0\n",
      "🧪 View experiment at: http://localhost:5000/#/experiments/106280909937744577\n",
      "Trial 2 achieved val_loss: 0.0646 (13.64% improvement)\n"
     ]
    },
    {
     "name": "stderr",
     "output_type": "stream",
     "text": [
      "2025/07/16 17:21:53 WARNING mlflow.models.signature: Failed to infer the model signature from the input example. Reason: RuntimeError('Expected all tensors to be on the same device, but got index is on cpu, different from other tensors on cuda:0 (when checking argument in method wrapper_CUDA__index_select)'). To see the full traceback, set the logging level to DEBUG via `logging.getLogger(\"mlflow\").setLevel(logging.DEBUG)`.\n"
     ]
    },
    {
     "data": {
      "application/vnd.jupyter.widget-view+json": {
       "model_id": "9f263086c906438d9f960b85190048bb",
       "version_major": 2,
       "version_minor": 0
      },
      "text/plain": [
       "Downloading artifacts:   0%|          | 0/8 [00:00<?, ?it/s]"
      ]
     },
     "metadata": {},
     "output_type": "display_data"
    },
    {
     "name": "stdout",
     "output_type": "stream",
     "text": [
      "🏃 View run selective-owl-449 at: http://localhost:5000/#/experiments/106280909937744577/runs/9f754beb0d934a23925dea80241c06fc\n",
      "🧪 View experiment at: http://localhost:5000/#/experiments/106280909937744577\n"
     ]
    },
    {
     "name": "stderr",
     "output_type": "stream",
     "text": [
      "2025/07/16 17:22:16 WARNING mlflow.models.signature: Failed to infer the model signature from the input example. Reason: RuntimeError('Expected all tensors to be on the same device, but got index is on cpu, different from other tensors on cuda:0 (when checking argument in method wrapper_CUDA__index_select)'). To see the full traceback, set the logging level to DEBUG via `logging.getLogger(\"mlflow\").setLevel(logging.DEBUG)`.\n"
     ]
    },
    {
     "data": {
      "application/vnd.jupyter.widget-view+json": {
       "model_id": "0e64ab5ea8d74bd3962017ef6ffe8821",
       "version_major": 2,
       "version_minor": 0
      },
      "text/plain": [
       "Downloading artifacts:   0%|          | 0/8 [00:00<?, ?it/s]"
      ]
     },
     "metadata": {},
     "output_type": "display_data"
    },
    {
     "name": "stdout",
     "output_type": "stream",
     "text": [
      "🏃 View run auspicious-calf-287 at: http://localhost:5000/#/experiments/106280909937744577/runs/c726b619676b4d8e8b1dd838977417de\n",
      "🧪 View experiment at: http://localhost:5000/#/experiments/106280909937744577\n"
     ]
    },
    {
     "name": "stderr",
     "output_type": "stream",
     "text": [
      "2025/07/16 17:22:43 WARNING mlflow.models.signature: Failed to infer the model signature from the input example. Reason: RuntimeError('Expected all tensors to be on the same device, but got index is on cpu, different from other tensors on cuda:0 (when checking argument in method wrapper_CUDA__index_select)'). To see the full traceback, set the logging level to DEBUG via `logging.getLogger(\"mlflow\").setLevel(logging.DEBUG)`.\n"
     ]
    },
    {
     "data": {
      "application/vnd.jupyter.widget-view+json": {
       "model_id": "7c8be3d35d6046078e55c7c86ef90eb5",
       "version_major": 2,
       "version_minor": 0
      },
      "text/plain": [
       "Downloading artifacts:   0%|          | 0/8 [00:00<?, ?it/s]"
      ]
     },
     "metadata": {},
     "output_type": "display_data"
    },
    {
     "name": "stdout",
     "output_type": "stream",
     "text": [
      "🏃 View run monumental-mare-434 at: http://localhost:5000/#/experiments/106280909937744577/runs/fe9db74d3d4243d1b217210a0a393416\n",
      "🧪 View experiment at: http://localhost:5000/#/experiments/106280909937744577\n"
     ]
    },
    {
     "name": "stderr",
     "output_type": "stream",
     "text": [
      "2025/07/16 17:23:04 WARNING mlflow.models.signature: Failed to infer the model signature from the input example. Reason: RuntimeError('Expected all tensors to be on the same device, but got index is on cpu, different from other tensors on cuda:0 (when checking argument in method wrapper_CUDA__index_select)'). To see the full traceback, set the logging level to DEBUG via `logging.getLogger(\"mlflow\").setLevel(logging.DEBUG)`.\n"
     ]
    },
    {
     "data": {
      "application/vnd.jupyter.widget-view+json": {
       "model_id": "7d75a9e4671d4e94a24a231497e2eb4d",
       "version_major": 2,
       "version_minor": 0
      },
      "text/plain": [
       "Downloading artifacts:   0%|          | 0/8 [00:00<?, ?it/s]"
      ]
     },
     "metadata": {},
     "output_type": "display_data"
    },
    {
     "name": "stdout",
     "output_type": "stream",
     "text": [
      "🏃 View run clean-crow-290 at: http://localhost:5000/#/experiments/106280909937744577/runs/776e12e49f0f4014b483491ab39184b3\n",
      "🧪 View experiment at: http://localhost:5000/#/experiments/106280909937744577\n"
     ]
    },
    {
     "name": "stderr",
     "output_type": "stream",
     "text": [
      "2025/07/16 17:23:29 WARNING mlflow.models.signature: Failed to infer the model signature from the input example. Reason: RuntimeError('Expected all tensors to be on the same device, but got index is on cpu, different from other tensors on cuda:0 (when checking argument in method wrapper_CUDA__index_select)'). To see the full traceback, set the logging level to DEBUG via `logging.getLogger(\"mlflow\").setLevel(logging.DEBUG)`.\n"
     ]
    },
    {
     "data": {
      "application/vnd.jupyter.widget-view+json": {
       "model_id": "d38c94ba82394b209586def72ac44bef",
       "version_major": 2,
       "version_minor": 0
      },
      "text/plain": [
       "Downloading artifacts:   0%|          | 0/8 [00:00<?, ?it/s]"
      ]
     },
     "metadata": {},
     "output_type": "display_data"
    },
    {
     "name": "stdout",
     "output_type": "stream",
     "text": [
      "🏃 View run gregarious-gnat-203 at: http://localhost:5000/#/experiments/106280909937744577/runs/1457441905be4e57b3befb119e57b14a\n",
      "🧪 View experiment at: http://localhost:5000/#/experiments/106280909937744577\n"
     ]
    },
    {
     "name": "stderr",
     "output_type": "stream",
     "text": [
      "2025/07/16 17:23:59 WARNING mlflow.models.signature: Failed to infer the model signature from the input example. Reason: RuntimeError('Expected all tensors to be on the same device, but got index is on cpu, different from other tensors on cuda:0 (when checking argument in method wrapper_CUDA__index_select)'). To see the full traceback, set the logging level to DEBUG via `logging.getLogger(\"mlflow\").setLevel(logging.DEBUG)`.\n"
     ]
    },
    {
     "data": {
      "application/vnd.jupyter.widget-view+json": {
       "model_id": "c1c7846a69b6469996b960be56b00102",
       "version_major": 2,
       "version_minor": 0
      },
      "text/plain": [
       "Downloading artifacts:   0%|          | 0/8 [00:00<?, ?it/s]"
      ]
     },
     "metadata": {},
     "output_type": "display_data"
    },
    {
     "name": "stdout",
     "output_type": "stream",
     "text": [
      "🏃 View run awesome-robin-472 at: http://localhost:5000/#/experiments/106280909937744577/runs/6abb026f0aa74383a431de65bff93451\n",
      "🧪 View experiment at: http://localhost:5000/#/experiments/106280909937744577\n"
     ]
    },
    {
     "name": "stderr",
     "output_type": "stream",
     "text": [
      "2025/07/16 17:24:19 WARNING mlflow.models.signature: Failed to infer the model signature from the input example. Reason: RuntimeError('Expected all tensors to be on the same device, but got index is on cpu, different from other tensors on cuda:0 (when checking argument in method wrapper_CUDA__index_select)'). To see the full traceback, set the logging level to DEBUG via `logging.getLogger(\"mlflow\").setLevel(logging.DEBUG)`.\n"
     ]
    },
    {
     "data": {
      "application/vnd.jupyter.widget-view+json": {
       "model_id": "9cc2f94c4dbc41bc919c102589500eb6",
       "version_major": 2,
       "version_minor": 0
      },
      "text/plain": [
       "Downloading artifacts:   0%|          | 0/8 [00:00<?, ?it/s]"
      ]
     },
     "metadata": {},
     "output_type": "display_data"
    },
    {
     "name": "stdout",
     "output_type": "stream",
     "text": [
      "🏃 View run treasured-bass-187 at: http://localhost:5000/#/experiments/106280909937744577/runs/5f515c176cdb409c8aa0fca36ff13919\n",
      "🧪 View experiment at: http://localhost:5000/#/experiments/106280909937744577\n"
     ]
    },
    {
     "name": "stderr",
     "output_type": "stream",
     "text": [
      "2025/07/16 17:24:49 WARNING mlflow.models.signature: Failed to infer the model signature from the input example. Reason: RuntimeError('Expected all tensors to be on the same device, but got index is on cpu, different from other tensors on cuda:0 (when checking argument in method wrapper_CUDA__index_select)'). To see the full traceback, set the logging level to DEBUG via `logging.getLogger(\"mlflow\").setLevel(logging.DEBUG)`.\n"
     ]
    },
    {
     "data": {
      "application/vnd.jupyter.widget-view+json": {
       "model_id": "a15a025d14104b41836e18c66e7a44c8",
       "version_major": 2,
       "version_minor": 0
      },
      "text/plain": [
       "Downloading artifacts:   0%|          | 0/8 [00:00<?, ?it/s]"
      ]
     },
     "metadata": {},
     "output_type": "display_data"
    },
    {
     "name": "stdout",
     "output_type": "stream",
     "text": [
      "🏃 View run adventurous-gull-229 at: http://localhost:5000/#/experiments/106280909937744577/runs/0a0dd0e4928346e2b3846cead0f98954\n",
      "🧪 View experiment at: http://localhost:5000/#/experiments/106280909937744577\n"
     ]
    },
    {
     "name": "stderr",
     "output_type": "stream",
     "text": [
      "2025/07/16 17:25:14 WARNING mlflow.models.signature: Failed to infer the model signature from the input example. Reason: RuntimeError('Expected all tensors to be on the same device, but got index is on cpu, different from other tensors on cuda:0 (when checking argument in method wrapper_CUDA__index_select)'). To see the full traceback, set the logging level to DEBUG via `logging.getLogger(\"mlflow\").setLevel(logging.DEBUG)`.\n"
     ]
    },
    {
     "data": {
      "application/vnd.jupyter.widget-view+json": {
       "model_id": "840d06b3b2ac4f188686c8d02e189d1a",
       "version_major": 2,
       "version_minor": 0
      },
      "text/plain": [
       "Downloading artifacts:   0%|          | 0/8 [00:00<?, ?it/s]"
      ]
     },
     "metadata": {},
     "output_type": "display_data"
    },
    {
     "name": "stdout",
     "output_type": "stream",
     "text": [
      "🏃 View run bright-shrike-392 at: http://localhost:5000/#/experiments/106280909937744577/runs/f790c92b3cd64e0a91e0f40dbed2ada9\n",
      "🧪 View experiment at: http://localhost:5000/#/experiments/106280909937744577\n"
     ]
    },
    {
     "name": "stderr",
     "output_type": "stream",
     "text": [
      "2025/07/16 17:25:42 WARNING mlflow.models.signature: Failed to infer the model signature from the input example. Reason: RuntimeError('Expected all tensors to be on the same device, but got index is on cpu, different from other tensors on cuda:0 (when checking argument in method wrapper_CUDA__index_select)'). To see the full traceback, set the logging level to DEBUG via `logging.getLogger(\"mlflow\").setLevel(logging.DEBUG)`.\n"
     ]
    },
    {
     "data": {
      "application/vnd.jupyter.widget-view+json": {
       "model_id": "409b26b2cfdc444d8fa88978220147ee",
       "version_major": 2,
       "version_minor": 0
      },
      "text/plain": [
       "Downloading artifacts:   0%|          | 0/8 [00:00<?, ?it/s]"
      ]
     },
     "metadata": {},
     "output_type": "display_data"
    },
    {
     "name": "stdout",
     "output_type": "stream",
     "text": [
      "🏃 View run hilarious-quail-464 at: http://localhost:5000/#/experiments/106280909937744577/runs/6622fc9ab2534e63a1c30c8b6b05d499\n",
      "🧪 View experiment at: http://localhost:5000/#/experiments/106280909937744577\n"
     ]
    },
    {
     "name": "stderr",
     "output_type": "stream",
     "text": [
      "2025/07/16 17:26:02 WARNING mlflow.models.signature: Failed to infer the model signature from the input example. Reason: RuntimeError('Expected all tensors to be on the same device, but got index is on cpu, different from other tensors on cuda:0 (when checking argument in method wrapper_CUDA__index_select)'). To see the full traceback, set the logging level to DEBUG via `logging.getLogger(\"mlflow\").setLevel(logging.DEBUG)`.\n"
     ]
    },
    {
     "data": {
      "application/vnd.jupyter.widget-view+json": {
       "model_id": "2e2ef06d068f441cbcc88c638e3fb1be",
       "version_major": 2,
       "version_minor": 0
      },
      "text/plain": [
       "Downloading artifacts:   0%|          | 0/8 [00:00<?, ?it/s]"
      ]
     },
     "metadata": {},
     "output_type": "display_data"
    },
    {
     "name": "stdout",
     "output_type": "stream",
     "text": [
      "🏃 View run omniscient-robin-855 at: http://localhost:5000/#/experiments/106280909937744577/runs/dafddb99e0bc428f9ef97efca646bd81\n",
      "🧪 View experiment at: http://localhost:5000/#/experiments/106280909937744577\n"
     ]
    },
    {
     "name": "stderr",
     "output_type": "stream",
     "text": [
      "2025/07/16 17:26:29 WARNING mlflow.models.signature: Failed to infer the model signature from the input example. Reason: RuntimeError('Expected all tensors to be on the same device, but got index is on cpu, different from other tensors on cuda:0 (when checking argument in method wrapper_CUDA__index_select)'). To see the full traceback, set the logging level to DEBUG via `logging.getLogger(\"mlflow\").setLevel(logging.DEBUG)`.\n"
     ]
    },
    {
     "data": {
      "application/vnd.jupyter.widget-view+json": {
       "model_id": "1e82923c3988465db2f9fbce52071268",
       "version_major": 2,
       "version_minor": 0
      },
      "text/plain": [
       "Downloading artifacts:   0%|          | 0/8 [00:00<?, ?it/s]"
      ]
     },
     "metadata": {},
     "output_type": "display_data"
    },
    {
     "name": "stdout",
     "output_type": "stream",
     "text": [
      "🏃 View run fearless-rook-387 at: http://localhost:5000/#/experiments/106280909937744577/runs/cae5039f42c74fb79211327a32b1a389\n",
      "🧪 View experiment at: http://localhost:5000/#/experiments/106280909937744577\n"
     ]
    },
    {
     "name": "stderr",
     "output_type": "stream",
     "text": [
      "2025/07/16 17:26:53 WARNING mlflow.models.signature: Failed to infer the model signature from the input example. Reason: RuntimeError('Expected all tensors to be on the same device, but got index is on cpu, different from other tensors on cuda:0 (when checking argument in method wrapper_CUDA__index_select)'). To see the full traceback, set the logging level to DEBUG via `logging.getLogger(\"mlflow\").setLevel(logging.DEBUG)`.\n"
     ]
    },
    {
     "data": {
      "application/vnd.jupyter.widget-view+json": {
       "model_id": "121836326ee144138566faabf70272f4",
       "version_major": 2,
       "version_minor": 0
      },
      "text/plain": [
       "Downloading artifacts:   0%|          | 0/8 [00:00<?, ?it/s]"
      ]
     },
     "metadata": {},
     "output_type": "display_data"
    },
    {
     "name": "stdout",
     "output_type": "stream",
     "text": [
      "🏃 View run receptive-sloth-350 at: http://localhost:5000/#/experiments/106280909937744577/runs/915f666ac07a47d9b2b394ec08ad3f52\n",
      "🧪 View experiment at: http://localhost:5000/#/experiments/106280909937744577\n"
     ]
    },
    {
     "name": "stderr",
     "output_type": "stream",
     "text": [
      "2025/07/16 17:27:13 WARNING mlflow.models.signature: Failed to infer the model signature from the input example. Reason: RuntimeError('Expected all tensors to be on the same device, but got index is on cpu, different from other tensors on cuda:0 (when checking argument in method wrapper_CUDA__index_select)'). To see the full traceback, set the logging level to DEBUG via `logging.getLogger(\"mlflow\").setLevel(logging.DEBUG)`.\n"
     ]
    },
    {
     "data": {
      "application/vnd.jupyter.widget-view+json": {
       "model_id": "eef0f3feffdb44f6a86c645536a6353a",
       "version_major": 2,
       "version_minor": 0
      },
      "text/plain": [
       "Downloading artifacts:   0%|          | 0/8 [00:00<?, ?it/s]"
      ]
     },
     "metadata": {},
     "output_type": "display_data"
    },
    {
     "name": "stdout",
     "output_type": "stream",
     "text": [
      "🏃 View run ambitious-koi-608 at: http://localhost:5000/#/experiments/106280909937744577/runs/9de5e3e88b74433c92208f6227b47c4a\n",
      "🧪 View experiment at: http://localhost:5000/#/experiments/106280909937744577\n"
     ]
    },
    {
     "name": "stderr",
     "output_type": "stream",
     "text": [
      "2025/07/16 17:27:34 WARNING mlflow.models.signature: Failed to infer the model signature from the input example. Reason: RuntimeError('Expected all tensors to be on the same device, but got index is on cpu, different from other tensors on cuda:0 (when checking argument in method wrapper_CUDA__index_select)'). To see the full traceback, set the logging level to DEBUG via `logging.getLogger(\"mlflow\").setLevel(logging.DEBUG)`.\n"
     ]
    },
    {
     "data": {
      "application/vnd.jupyter.widget-view+json": {
       "model_id": "9165ee8f12924b81a7e648348316b553",
       "version_major": 2,
       "version_minor": 0
      },
      "text/plain": [
       "Downloading artifacts:   0%|          | 0/8 [00:00<?, ?it/s]"
      ]
     },
     "metadata": {},
     "output_type": "display_data"
    },
    {
     "name": "stdout",
     "output_type": "stream",
     "text": [
      "🏃 View run skittish-squid-409 at: http://localhost:5000/#/experiments/106280909937744577/runs/9073b8239fe845368addd96a93fd586d\n",
      "🧪 View experiment at: http://localhost:5000/#/experiments/106280909937744577\n"
     ]
    },
    {
     "name": "stderr",
     "output_type": "stream",
     "text": [
      "2025/07/16 17:28:04 WARNING mlflow.models.signature: Failed to infer the model signature from the input example. Reason: RuntimeError('Expected all tensors to be on the same device, but got index is on cpu, different from other tensors on cuda:0 (when checking argument in method wrapper_CUDA__index_select)'). To see the full traceback, set the logging level to DEBUG via `logging.getLogger(\"mlflow\").setLevel(logging.DEBUG)`.\n"
     ]
    },
    {
     "data": {
      "application/vnd.jupyter.widget-view+json": {
       "model_id": "f676137720c6442c9e7d919e94f3168f",
       "version_major": 2,
       "version_minor": 0
      },
      "text/plain": [
       "Downloading artifacts:   0%|          | 0/8 [00:00<?, ?it/s]"
      ]
     },
     "metadata": {},
     "output_type": "display_data"
    },
    {
     "name": "stdout",
     "output_type": "stream",
     "text": [
      "🏃 View run loud-trout-647 at: http://localhost:5000/#/experiments/106280909937744577/runs/f3b3a69103084132b8295d1550c03a85\n",
      "🧪 View experiment at: http://localhost:5000/#/experiments/106280909937744577\n"
     ]
    },
    {
     "name": "stderr",
     "output_type": "stream",
     "text": [
      "2025/07/16 17:28:43 WARNING mlflow.models.signature: Failed to infer the model signature from the input example. Reason: RuntimeError('Expected all tensors to be on the same device, but got index is on cpu, different from other tensors on cuda:0 (when checking argument in method wrapper_CUDA__index_select)'). To see the full traceback, set the logging level to DEBUG via `logging.getLogger(\"mlflow\").setLevel(logging.DEBUG)`.\n"
     ]
    },
    {
     "data": {
      "application/vnd.jupyter.widget-view+json": {
       "model_id": "d2963b638f6c4f47a60d055a07788bc3",
       "version_major": 2,
       "version_minor": 0
      },
      "text/plain": [
       "Downloading artifacts:   0%|          | 0/8 [00:00<?, ?it/s]"
      ]
     },
     "metadata": {},
     "output_type": "display_data"
    },
    {
     "name": "stdout",
     "output_type": "stream",
     "text": [
      "🏃 View run rambunctious-kit-657 at: http://localhost:5000/#/experiments/106280909937744577/runs/d7186c91ad294c008a6b9ab9a329b0dc\n",
      "🧪 View experiment at: http://localhost:5000/#/experiments/106280909937744577\n"
     ]
    },
    {
     "name": "stderr",
     "output_type": "stream",
     "text": [
      "2025/07/16 17:29:12 WARNING mlflow.models.signature: Failed to infer the model signature from the input example. Reason: RuntimeError('Expected all tensors to be on the same device, but got index is on cpu, different from other tensors on cuda:0 (when checking argument in method wrapper_CUDA__index_select)'). To see the full traceback, set the logging level to DEBUG via `logging.getLogger(\"mlflow\").setLevel(logging.DEBUG)`.\n"
     ]
    },
    {
     "data": {
      "application/vnd.jupyter.widget-view+json": {
       "model_id": "b1233def753344e89611278e9b54d802",
       "version_major": 2,
       "version_minor": 0
      },
      "text/plain": [
       "Downloading artifacts:   0%|          | 0/8 [00:00<?, ?it/s]"
      ]
     },
     "metadata": {},
     "output_type": "display_data"
    },
    {
     "name": "stdout",
     "output_type": "stream",
     "text": [
      "🏃 View run brawny-dove-353 at: http://localhost:5000/#/experiments/106280909937744577/runs/059b9b3e1e184e4db50d9589b77c79bd\n",
      "🧪 View experiment at: http://localhost:5000/#/experiments/106280909937744577\n"
     ]
    },
    {
     "name": "stderr",
     "output_type": "stream",
     "text": [
      "2025/07/16 17:29:44 WARNING mlflow.models.signature: Failed to infer the model signature from the input example. Reason: RuntimeError('Expected all tensors to be on the same device, but got index is on cpu, different from other tensors on cuda:0 (when checking argument in method wrapper_CUDA__index_select)'). To see the full traceback, set the logging level to DEBUG via `logging.getLogger(\"mlflow\").setLevel(logging.DEBUG)`.\n"
     ]
    },
    {
     "data": {
      "application/vnd.jupyter.widget-view+json": {
       "model_id": "1f6335f8172142c792b3bc291ddc78c0",
       "version_major": 2,
       "version_minor": 0
      },
      "text/plain": [
       "Downloading artifacts:   0%|          | 0/8 [00:00<?, ?it/s]"
      ]
     },
     "metadata": {},
     "output_type": "display_data"
    },
    {
     "name": "stdout",
     "output_type": "stream",
     "text": [
      "🏃 View run powerful-boar-254 at: http://localhost:5000/#/experiments/106280909937744577/runs/538265bc5874430482c726bb126b8866\n",
      "🧪 View experiment at: http://localhost:5000/#/experiments/106280909937744577\n"
     ]
    },
    {
     "name": "stderr",
     "output_type": "stream",
     "text": [
      "2025/07/16 17:30:17 WARNING mlflow.models.signature: Failed to infer the model signature from the input example. Reason: RuntimeError('Expected all tensors to be on the same device, but got index is on cpu, different from other tensors on cuda:0 (when checking argument in method wrapper_CUDA__index_select)'). To see the full traceback, set the logging level to DEBUG via `logging.getLogger(\"mlflow\").setLevel(logging.DEBUG)`.\n"
     ]
    },
    {
     "data": {
      "application/vnd.jupyter.widget-view+json": {
       "model_id": "df236a7c42e845b9a71df240c5679bab",
       "version_major": 2,
       "version_minor": 0
      },
      "text/plain": [
       "Downloading artifacts:   0%|          | 0/8 [00:00<?, ?it/s]"
      ]
     },
     "metadata": {},
     "output_type": "display_data"
    },
    {
     "name": "stdout",
     "output_type": "stream",
     "text": [
      "🏃 View run bouncy-bug-335 at: http://localhost:5000/#/experiments/106280909937744577/runs/ad500b58918044daaf2076e5590f15ca\n",
      "🧪 View experiment at: http://localhost:5000/#/experiments/106280909937744577\n"
     ]
    },
    {
     "name": "stderr",
     "output_type": "stream",
     "text": [
      "2025/07/16 17:30:52 WARNING mlflow.models.signature: Failed to infer the model signature from the input example. Reason: RuntimeError('Expected all tensors to be on the same device, but got index is on cpu, different from other tensors on cuda:0 (when checking argument in method wrapper_CUDA__index_select)'). To see the full traceback, set the logging level to DEBUG via `logging.getLogger(\"mlflow\").setLevel(logging.DEBUG)`.\n"
     ]
    },
    {
     "data": {
      "application/vnd.jupyter.widget-view+json": {
       "model_id": "893b66a75a36479a8e3313503544b764",
       "version_major": 2,
       "version_minor": 0
      },
      "text/plain": [
       "Downloading artifacts:   0%|          | 0/8 [00:00<?, ?it/s]"
      ]
     },
     "metadata": {},
     "output_type": "display_data"
    },
    {
     "name": "stdout",
     "output_type": "stream",
     "text": [
      "🏃 View run enthused-stoat-626 at: http://localhost:5000/#/experiments/106280909937744577/runs/c1b36b0702ff431ca90863cc146d5380\n",
      "🧪 View experiment at: http://localhost:5000/#/experiments/106280909937744577\n"
     ]
    },
    {
     "name": "stderr",
     "output_type": "stream",
     "text": [
      "2025/07/16 17:31:20 WARNING mlflow.models.signature: Failed to infer the model signature from the input example. Reason: RuntimeError('Expected all tensors to be on the same device, but got index is on cpu, different from other tensors on cuda:0 (when checking argument in method wrapper_CUDA__index_select)'). To see the full traceback, set the logging level to DEBUG via `logging.getLogger(\"mlflow\").setLevel(logging.DEBUG)`.\n"
     ]
    },
    {
     "data": {
      "application/vnd.jupyter.widget-view+json": {
       "model_id": "9cbf156228cd4309a7281e2605da4736",
       "version_major": 2,
       "version_minor": 0
      },
      "text/plain": [
       "Downloading artifacts:   0%|          | 0/8 [00:00<?, ?it/s]"
      ]
     },
     "metadata": {},
     "output_type": "display_data"
    },
    {
     "name": "stdout",
     "output_type": "stream",
     "text": [
      "🏃 View run popular-stork-153 at: http://localhost:5000/#/experiments/106280909937744577/runs/50779920deeb41c7b1849c802c7b783b\n",
      "🧪 View experiment at: http://localhost:5000/#/experiments/106280909937744577\n",
      "\n",
      "Best trial:\n",
      "  Val Loss: 0.0646\n",
      "  Params: {'embedding_dim': 512, 'num_filters': 128, 'kernels': '1,3,5'}\n",
      "🏃 View run TextCNN_Hyperparam_Tuning at: http://localhost:5000/#/experiments/106280909937744577/runs/9f2d585015ea4d6f829a3dd10085b245\n",
      "🧪 View experiment at: http://localhost:5000/#/experiments/106280909937744577\n"
     ]
    }
   ],
   "source": [
    "# Main experiment\n",
    "with mlflow.start_run(run_name=\"TextCNN_Hyperparam_Tuning\"):\n",
    "    study = optuna.create_study(direction=\"minimize\")\n",
    "    \n",
    "    # Add tags\n",
    "    mlflow.set_tags({\n",
    "        \"project\": \"Learning Question Classifiers\",\n",
    "        \"model_type\": \"TextCNN\",\n",
    "        \"optimizer\": \"Adam\"\n",
    "    })\n",
    "    \n",
    "    # Run optimization\n",
    "    study.optimize(objective, n_trials=25, callbacks=[champion_callback])\n",
    "    \n",
    "    # Log best results\n",
    "    mlflow.log_params(study.best_params)\n",
    "    mlflow.log_metric(\"best_val_loss\", study.best_value)\n",
    "    \n",
    "    print(f\"\\nBest trial:\")\n",
    "    print(f\"  Val Loss: {study.best_value:.4f}\")\n",
    "    print(f\"  Params: {study.best_params}\")"
   ]
  },
  {
   "cell_type": "code",
   "execution_count": 28,
   "id": "237136e2-562e-4dde-b916-4fca18e0af44",
   "metadata": {},
   "outputs": [],
   "source": [
    "from mlflow.tracking import MlflowClient\n",
    "\n",
    "client = MlflowClient()\n",
    "\n",
    "# Find the best run based on Optuna's best trial number\n",
    "best_trial_number = study.best_trial.number\n",
    "\n",
    "experiment = mlflow.get_experiment_by_name(\"LQC-TextCNN\")\n",
    "experiment_id = experiment.experiment_id\n",
    "\n",
    "# Search for the matching run\n",
    "runs = client.search_runs(\n",
    "    experiment_ids=[experiment_id],\n",
    "    filter_string=f\"tags.optuna_trial_number = '{best_trial_number}'\"\n",
    ")\n",
    "\n",
    "# Get the best run ID\n",
    "best_run_id = runs[0].info.run_id\n"
   ]
  },
  {
   "cell_type": "code",
   "execution_count": 29,
   "id": "2a9162dd-195e-4c7a-b07e-3bb909f09e51",
   "metadata": {},
   "outputs": [
    {
     "data": {
      "application/vnd.jupyter.widget-view+json": {
       "model_id": "9f60286b59f54a2e91ba465df7c9f704",
       "version_major": 2,
       "version_minor": 0
      },
      "text/plain": [
       "Downloading artifacts:   0%|          | 0/1 [00:00<?, ?it/s]"
      ]
     },
     "metadata": {},
     "output_type": "display_data"
    },
    {
     "data": {
      "application/vnd.jupyter.widget-view+json": {
       "model_id": "7a75739b37f3478fbd882bfac6651f54",
       "version_major": 2,
       "version_minor": 0
      },
      "text/plain": [
       "Downloading artifacts:   0%|          | 0/8 [00:00<?, ?it/s]"
      ]
     },
     "metadata": {},
     "output_type": "display_data"
    },
    {
     "name": "stdout",
     "output_type": "stream",
     "text": [
      "Loaded best model from run 0d6c9a8487854ecca3109c6faabb1ca0 with val_loss: 0.06456653337740778\n"
     ]
    }
   ],
   "source": [
    "client = MlflowClient()\n",
    "\n",
    "best_trial_number = study.best_trial.number\n",
    "\n",
    "experiment = mlflow.get_experiment_by_name(\"LQC-TextCNN\")\n",
    "experiment_id = experiment.experiment_id\n",
    "\n",
    "parent_run = client.search_runs(\n",
    "    experiment_ids=[experiment_id],\n",
    "    filter_string=\"tags.mlflow.runName = 'TextCNN_Hyperparam_Tuning'\"\n",
    ")[0]\n",
    "\n",
    "child_runs = client.search_runs(\n",
    "    experiment_ids=[experiment_id],\n",
    "    filter_string=f\"tags.mlflow.parentRunId = '{parent_run.info.run_id}'\"\n",
    ")\n",
    "\n",
    "best_run = next(\n",
    "    run for run in child_runs \n",
    "    if run.data.tags.get(\"optuna_trial_number\") == str(best_trial_number)\n",
    ")\n",
    "\n",
    "best_model_uri = f\"runs:/{best_run.info.run_id}/model\"\n",
    "best_model = mlflow.pytorch.load_model(best_model_uri)\n",
    "\n",
    "print(f\"Loaded best model from run {best_run.info.run_id} with val_loss: {best_run.data.metrics['eval_loss']}\")"
   ]
  },
  {
   "cell_type": "code",
   "execution_count": 30,
   "id": "6fce59c5-0fea-4439-b0c8-6b5cd0f8a47c",
   "metadata": {},
   "outputs": [],
   "source": [
    "torch.save(best_model, \"textcnn.pt\")"
   ]
  },
  {
   "cell_type": "code",
   "execution_count": 32,
   "id": "b98319dd-e53b-4b37-be3a-9839fac4709f",
   "metadata": {},
   "outputs": [
    {
     "data": {
      "text/plain": [
       "TextCNN(\n",
       "  (embedding): Embedding(8482, 512)\n",
       "  (conv1): Conv1d(512, 128, kernel_size=(1,), stride=(1,), padding=same)\n",
       "  (conv2): Conv1d(512, 128, kernel_size=(3,), stride=(1,), padding=same)\n",
       "  (conv3): Conv1d(512, 128, kernel_size=(5,), stride=(1,), padding=same)\n",
       "  (fc): Linear(in_features=384, out_features=6, bias=True)\n",
       ")"
      ]
     },
     "execution_count": 32,
     "metadata": {},
     "output_type": "execute_result"
    }
   ],
   "source": [
    "best_model = torch.load(\"textcnn.pt\", weights_only=False, map_location=torch.device(\"cpu\"))\n",
    "best_model.eval()"
   ]
  },
  {
   "cell_type": "code",
   "execution_count": 36,
   "id": "bfc1762a-cbf7-4514-8fe4-a79be59c5ccb",
   "metadata": {},
   "outputs": [
    {
     "name": "stdout",
     "output_type": "stream",
     "text": [
      "Test Accuracy: 0.9660\n",
      "              precision    recall  f1-score   support\n",
      "\n",
      "        ABBR       1.00      1.00      1.00         9\n",
      "        DESC       1.00      1.00      1.00       138\n",
      "        ENTY       0.90      0.95      0.92        94\n",
      "         HUM       1.00      1.00      1.00        65\n",
      "         LOC       0.92      0.95      0.93        81\n",
      "         NUM       1.00      0.93      0.96       113\n",
      "\n",
      "    accuracy                           0.97       500\n",
      "   macro avg       0.97      0.97      0.97       500\n",
      "weighted avg       0.97      0.97      0.97       500\n",
      "\n"
     ]
    },
    {
     "data": {
      "image/png": "[encoded data removed]",
      "text/plain": [
       "<Figure size 600x500 with 2 Axes>"
      ]
     },
     "metadata": {},
     "output_type": "display_data"
    }
   ],
   "source": [
    "from sklearn.metrics import classification_report\n",
    "import matplotlib.pyplot as plt\n",
    "import seaborn as sns\n",
    "from sklearn.metrics import confusion_matrix, accuracy_score\n",
    "import torch.nn.functional as F\n",
    "\n",
    "best_model.eval()\n",
    "test_preds, test_labels = [], []\n",
    "wrong_predictions = []\n",
    "\n",
    "with torch.no_grad():\n",
    "    for batch in test_dataloader:\n",
    "        inputs, labels = batch\n",
    "        labels = labels.long()\n",
    "        logits = best_model(inputs)\n",
    "        probs = F.softmax(logits, dim=1)\n",
    "        preds = torch.argmax(probs, dim=1)\n",
    "        test_preds.extend(preds.cpu().numpy())\n",
    "        test_labels.extend(labels.cpu().numpy())\n",
    "\n",
    "        for i in range(len(preds)):\n",
    "            if preds[i] != labels[i]:\n",
    "                wrong_predictions.append({\n",
    "                    \"input\": inputs[i],\n",
    "                    \"true_label\": labels[i].item(),\n",
    "                    \"pred_label\": preds[i].item()\n",
    "                })\n",
    "\n",
    "# Accuracy\n",
    "acc = accuracy_score(test_labels, test_preds)\n",
    "print(f\"Test Accuracy: {acc:.4f}\")\n",
    "\n",
    "# Classification Report\n",
    "target_names = test_dataset.string_classes\n",
    "print(classification_report(test_labels, test_preds, target_names=target_names))\n",
    "\n",
    "# Confusion Matrix\n",
    "cm = confusion_matrix(test_labels, test_preds)\n",
    "plt.figure(figsize=(6, 5))\n",
    "sns.heatmap(cm, annot=True, fmt='d', cmap='Oranges', xticklabels=target_names, yticklabels=target_names)\n",
    "plt.xlabel(\"Predicted\")\n",
    "plt.ylabel(\"Actual\")\n",
    "plt.title(\"Confusion Matrix - Test Set\")\n",
    "plt.tight_layout()\n",
    "plt.show()\n"
   ]
  },
  {
   "cell_type": "code",
   "execution_count": 37,
   "id": "ef2d5440-c712-4e4b-9e4b-6eda4b9dc1f1",
   "metadata": {},
   "outputs": [
    {
     "name": "stdout",
     "output_type": "stream",
     "text": [
      "\n",
      "Found 17 misclassified samples:\n",
      "\n",
      "❌ Sample 1\n",
      "Text       : other what is the longest major league baseball winning streak\n",
      "True Label : ENTY\n",
      "Predicted  : LOC\n",
      "--------------------------------------------------\n",
      "❌ Sample 2\n",
      "Text       : other what imaginary line is <UNK> between the north and south <UNK>\n",
      "True Label : LOC\n",
      "Predicted  : ENTY\n",
      "--------------------------------------------------\n",
      "❌ Sample 3\n",
      "Text       : other what is the life expectancy of a dollar bill\n",
      "True Label : NUM\n",
      "Predicted  : ENTY\n",
      "--------------------------------------------------\n",
      "❌ Sample 4\n",
      "Text       : other what is the life expectancy for <UNK>\n",
      "True Label : NUM\n",
      "Predicted  : ENTY\n",
      "--------------------------------------------------\n",
      "❌ Sample 5\n",
      "Text       : temp the sun 's <UNK> what is the temperature\n",
      "True Label : NUM\n",
      "Predicted  : ENTY\n",
      "--------------------------------------------------\n",
      "❌ Sample 6\n",
      "Text       : other what is the major <UNK> line near kentucky\n",
      "True Label : ENTY\n",
      "Predicted  : LOC\n",
      "--------------------------------------------------\n",
      "❌ Sample 7\n",
      "Text       : other what is the world 's population\n",
      "True Label : NUM\n",
      "Predicted  : LOC\n",
      "--------------------------------------------------\n",
      "❌ Sample 8\n",
      "Text       : other what is the electrical output in madrid spain\n",
      "True Label : ENTY\n",
      "Predicted  : LOC\n",
      "--------------------------------------------------\n",
      "❌ Sample 9\n",
      "Text       : other what is the <UNK> point of gold\n",
      "True Label : NUM\n",
      "Predicted  : ENTY\n",
      "--------------------------------------------------\n",
      "❌ Sample 10\n",
      "Text       : other what is the sales tax in minnesota\n",
      "True Label : ENTY\n",
      "Predicted  : LOC\n",
      "--------------------------------------------------\n",
      "❌ Sample 11\n",
      "Text       : mount which mountain range in north america <UNK> from maine to georgia\n",
      "True Label : LOC\n",
      "Predicted  : ENTY\n",
      "--------------------------------------------------\n",
      "❌ Sample 12\n",
      "Text       : money mexican <UNK> are worth what in u s dollars\n",
      "True Label : NUM\n",
      "Predicted  : ENTY\n",
      "--------------------------------------------------\n",
      "❌ Sample 13\n",
      "Text       : other what are canada 's two territories\n",
      "True Label : LOC\n",
      "Predicted  : ENTY\n",
      "--------------------------------------------------\n",
      "❌ Sample 14\n",
      "Text       : other what is the sales tax rate in new york\n",
      "True Label : NUM\n",
      "Predicted  : LOC\n",
      "--------------------------------------------------\n",
      "❌ Sample 15\n",
      "Text       : other what is the <UNK> point of copper\n",
      "True Label : NUM\n",
      "Predicted  : ENTY\n",
      "--------------------------------------------------\n",
      "❌ Sample 16\n",
      "Text       : other what is the source of natural gas\n",
      "True Label : ENTY\n",
      "Predicted  : LOC\n",
      "--------------------------------------------------\n",
      "❌ Sample 17\n",
      "Text       : other in the late <UNK> 's british <UNK> were used to <UNK> which colony\n",
      "True Label : LOC\n",
      "Predicted  : ENTY\n",
      "--------------------------------------------------\n"
     ]
    }
   ],
   "source": [
    "def decode_input(input_tensor):\n",
    "    tokens = input_tensor.cpu().tolist()\n",
    "    return ' '.join([test_dataset.idx2word.get(tok, \"[UNK]\") for tok in tokens if tok != 0])\n",
    "\n",
    "print(f\"\\nFound {len(wrong_predictions)} misclassified samples:\\n\")\n",
    "for i, item in enumerate(wrong_predictions):  # limit output\n",
    "    text = decode_input(item[\"input\"])\n",
    "    true_label = test_dataset.string_classes[item[\"true_label\"]]\n",
    "    pred_label = test_dataset.string_classes[item[\"pred_label\"]]\n",
    "    print(f\"❌ Sample {i+1}\")\n",
    "    print(f\"Text       : {text}\")\n",
    "    print(f\"True Label : {true_label}\")\n",
    "    print(f\"Predicted  : {pred_label}\")\n",
    "    print(\"-\" * 50)\n"
   ]
  },
  {
   "cell_type": "code",
   "execution_count": 35,
   "id": "939f2881-2cab-4e3a-a7d2-ecd4e774f0d9",
   "metadata": {},
   "outputs": [
    {
     "name": "stdout",
     "output_type": "stream",
     "text": [
      "\n",
      "🧪 Sample Test Results (with <UNK>):\n",
      "\n",
      "🔹 Question  : def what is <UNK>\n",
      "✅ True Label: DESC\n",
      "🧠 Predicted : DESC\n",
      "--------------------------------------------------\n",
      "🔹 Question  : def what are solar cells\n",
      "✅ True Label: DESC\n",
      "🧠 Predicted : DESC\n",
      "--------------------------------------------------\n",
      "🔹 Question  : def what are enzymes\n",
      "✅ True Label: DESC\n",
      "🧠 Predicted : DESC\n",
      "--------------------------------------------------\n",
      "🔹 Question  : def what is <UNK> major\n",
      "✅ True Label: DESC\n",
      "🧠 Predicted : DESC\n",
      "--------------------------------------------------\n",
      "🔹 Question  : other where did howard hughes die\n",
      "✅ True Label: LOC\n",
      "🧠 Predicted : LOC\n",
      "--------------------------------------------------\n",
      "🔹 Question  : ind who killed john f kennedy\n",
      "✅ True Label: HUM\n",
      "🧠 Predicted : HUM\n",
      "--------------------------------------------------\n",
      "🔹 Question  : other where was the first golf course in the united states\n",
      "✅ True Label: LOC\n",
      "🧠 Predicted : LOC\n",
      "--------------------------------------------------\n",
      "🔹 Question  : substance what kind of gas is in a <UNK> <UNK>\n",
      "✅ True Label: ENTY\n",
      "🧠 Predicted : ENTY\n",
      "--------------------------------------------------\n",
      "🔹 Question  : date when did john f kennedy get elected as president\n",
      "✅ True Label: NUM\n",
      "🧠 Predicted : NUM\n",
      "--------------------------------------------------\n",
      "🔹 Question  : date when is st <UNK> 's day\n",
      "✅ True Label: NUM\n",
      "🧠 Predicted : NUM\n",
      "--------------------------------------------------\n",
      "\n",
      "🔍 Total <UNK> tokens in these 10 samples: 5\n"
     ]
    }
   ],
   "source": [
    "import random\n",
    "\n",
    "# Inverse label mapping\n",
    "idx_to_class = {i: label for i, label in enumerate(test_dataset.string_classes)}\n",
    "\n",
    "print(\"\\n🧪 Sample Test Results (with <UNK>):\\n\")\n",
    "\n",
    "unk_count = 0\n",
    "\n",
    "indices = list(range(len(test_dataset)))\n",
    "random.shuffle(indices)\n",
    "\n",
    "for i in indices[:10]:\n",
    "    input_ids = test_dataset.numeral_questions[i]\n",
    "    tokens = []\n",
    "    for idx in input_ids:\n",
    "        if idx == 0:\n",
    "            continue  # Skip padding\n",
    "        word = test_dataset.idx2word.get(idx, \"<UNK>\")\n",
    "        if word == \"<UNK>\":\n",
    "            unk_count += 1\n",
    "            tokens.append(f\"<UNK>\")\n",
    "        else:\n",
    "            tokens.append(word)\n",
    "\n",
    "    question_text = \" \".join(tokens)\n",
    "\n",
    "    true_label_idx = test_dataset.numeral_labels[i]\n",
    "    true_label = idx_to_class[true_label_idx]\n",
    "\n",
    "    # Predict\n",
    "    input_tensor = torch.tensor(input_ids).unsqueeze(0)\n",
    "    best_model.eval()\n",
    "    with torch.no_grad():\n",
    "        logits = best_model(input_tensor)\n",
    "        pred_idx = torch.argmax(logits, dim=1).item()\n",
    "        pred_label = idx_to_class[pred_idx]\n",
    "\n",
    "    print(f\"🔹 Question  : {question_text}\")\n",
    "    print(f\"✅ True Label: {true_label}\")\n",
    "    print(f\"🧠 Predicted : {pred_label}\")\n",
    "    print(\"-\" * 50)\n",
    "\n",
    "print(f\"\\n🔍 Total <UNK> tokens in these 10 samples: {unk_count}\")\n"
   ]
  },
  {
   "cell_type": "code",
   "execution_count": null,
   "id": "cb64ddd9-b226-4887-bf77-b27d0020985c",
   "metadata": {},
   "outputs": [],
   "source": []
  }
 ],
 "metadata": {
  "kernelspec": {
   "display_name": "gpu",
   "language": "python",
   "name": "gpu"
  },
  "language_info": {
   "codemirror_mode": {
    "name": "ipython",
    "version": 3
   },
   "file_extension": ".py",
   "mimetype": "text/x-python",
   "name": "python",
   "nbconvert_exporter": "python",
   "pygments_lexer": "ipython3",
   "version": "3.10.18"
  }
 },
 "nbformat": 4,
 "nbformat_minor": 5
}
